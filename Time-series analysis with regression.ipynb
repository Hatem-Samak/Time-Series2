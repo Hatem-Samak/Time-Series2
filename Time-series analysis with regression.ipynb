{
 "cells": [
  {
   "cell_type": "markdown",
   "metadata": {},
   "source": [
    "# Time Analysis prediction \n",
    "\n",
    "using the regrssion techniques can you predict the future of the <a href=\"../datasets/Financial Data - Forex.zip\">stock</a> market based on the history of it ?\n",
    "\n",
    "![Time analysis](https://magoosh.com/statistics/files/2018/05/time_series.png)\n",
    "\n",
    "it would be great to predict one day in the future, one month and one year !"
   ]
  },
  {
   "cell_type": "code",
   "execution_count": 62,
   "metadata": {
    "ExecuteTime": {
     "end_time": "2020-02-21T11:50:54.793363Z",
     "start_time": "2020-02-21T11:50:54.790987Z"
    }
   },
   "outputs": [],
   "source": [
    "import pandas as pd\n",
    "import numpy as np\n",
    "from sklearn.linear_model import LinearRegression"
   ]
  },
  {
   "cell_type": "code",
   "execution_count": 63,
   "metadata": {
    "ExecuteTime": {
     "end_time": "2020-02-21T11:50:55.035773Z",
     "start_time": "2020-02-21T11:50:54.796722Z"
    }
   },
   "outputs": [
    {
     "data": {
      "text/html": [
       "<div>\n",
       "<style scoped>\n",
       "    .dataframe tbody tr th:only-of-type {\n",
       "        vertical-align: middle;\n",
       "    }\n",
       "\n",
       "    .dataframe tbody tr th {\n",
       "        vertical-align: top;\n",
       "    }\n",
       "\n",
       "    .dataframe thead th {\n",
       "        text-align: right;\n",
       "    }\n",
       "</style>\n",
       "<table border=\"1\" class=\"dataframe\">\n",
       "  <thead>\n",
       "    <tr style=\"text-align: right;\">\n",
       "      <th></th>\n",
       "      <th>Time</th>\n",
       "      <th>Open</th>\n",
       "      <th>High</th>\n",
       "      <th>Low</th>\n",
       "      <th>Close</th>\n",
       "      <th>Volume</th>\n",
       "    </tr>\n",
       "  </thead>\n",
       "  <tbody>\n",
       "    <tr>\n",
       "      <td>0</td>\n",
       "      <td>2010-01-01 00:00</td>\n",
       "      <td>1.43283</td>\n",
       "      <td>1.43293</td>\n",
       "      <td>1.43224</td>\n",
       "      <td>1.43293</td>\n",
       "      <td>608600007.1</td>\n",
       "    </tr>\n",
       "    <tr>\n",
       "      <td>1</td>\n",
       "      <td>2010-01-01 00:15</td>\n",
       "      <td>1.43285</td>\n",
       "      <td>1.43295</td>\n",
       "      <td>1.43229</td>\n",
       "      <td>1.43275</td>\n",
       "      <td>535600003.2</td>\n",
       "    </tr>\n",
       "    <tr>\n",
       "      <td>2</td>\n",
       "      <td>2010-01-01 00:30</td>\n",
       "      <td>1.43280</td>\n",
       "      <td>1.43303</td>\n",
       "      <td>1.43239</td>\n",
       "      <td>1.43281</td>\n",
       "      <td>436299999.2</td>\n",
       "    </tr>\n",
       "    <tr>\n",
       "      <td>3</td>\n",
       "      <td>2010-01-01 00:45</td>\n",
       "      <td>1.43285</td>\n",
       "      <td>1.43294</td>\n",
       "      <td>1.43229</td>\n",
       "      <td>1.43276</td>\n",
       "      <td>614299997.3</td>\n",
       "    </tr>\n",
       "    <tr>\n",
       "      <td>4</td>\n",
       "      <td>2010-01-01 01:00</td>\n",
       "      <td>1.43287</td>\n",
       "      <td>1.43292</td>\n",
       "      <td>1.43206</td>\n",
       "      <td>1.43282</td>\n",
       "      <td>705300008.8</td>\n",
       "    </tr>\n",
       "  </tbody>\n",
       "</table>\n",
       "</div>"
      ],
      "text/plain": [
       "               Time     Open     High      Low    Close       Volume\n",
       "0  2010-01-01 00:00  1.43283  1.43293  1.43224  1.43293  608600007.1\n",
       "1  2010-01-01 00:15  1.43285  1.43295  1.43229  1.43275  535600003.2\n",
       "2  2010-01-01 00:30  1.43280  1.43303  1.43239  1.43281  436299999.2\n",
       "3  2010-01-01 00:45  1.43285  1.43294  1.43229  1.43276  614299997.3\n",
       "4  2010-01-01 01:00  1.43287  1.43292  1.43206  1.43282  705300008.8"
      ]
     },
     "execution_count": 63,
     "metadata": {},
     "output_type": "execute_result"
    }
   ],
   "source": [
    "df = pd.read_csv(\"../../datasets/EURUSD_15m_BID_01.01.2010-31.12.2016.csv\")\n",
    "df.head()"
   ]
  },
  {
   "cell_type": "code",
   "execution_count": 64,
   "metadata": {
    "ExecuteTime": {
     "end_time": "2020-02-21T11:50:55.041538Z",
     "start_time": "2020-02-21T11:50:55.037400Z"
    }
   },
   "outputs": [
    {
     "data": {
      "text/plain": [
       "'2010-01-01 00:00'"
      ]
     },
     "execution_count": 64,
     "metadata": {},
     "output_type": "execute_result"
    }
   ],
   "source": [
    "df.iloc[0, 0]"
   ]
  },
  {
   "cell_type": "code",
   "execution_count": 65,
   "metadata": {
    "ExecuteTime": {
     "end_time": "2020-02-21T11:50:55.096098Z",
     "start_time": "2020-02-21T11:50:55.043319Z"
    }
   },
   "outputs": [
    {
     "data": {
      "text/plain": [
       "Timestamp('2010-01-01 00:00:00')"
      ]
     },
     "execution_count": 65,
     "metadata": {},
     "output_type": "execute_result"
    }
   ],
   "source": [
    "pd.to_datetime(df['Time'])[0]"
   ]
  },
  {
   "cell_type": "code",
   "execution_count": 66,
   "metadata": {
    "ExecuteTime": {
     "end_time": "2020-02-21T11:50:55.147190Z",
     "start_time": "2020-02-21T11:50:55.097431Z"
    }
   },
   "outputs": [
    {
     "data": {
      "text/html": [
       "<div>\n",
       "<style scoped>\n",
       "    .dataframe tbody tr th:only-of-type {\n",
       "        vertical-align: middle;\n",
       "    }\n",
       "\n",
       "    .dataframe tbody tr th {\n",
       "        vertical-align: top;\n",
       "    }\n",
       "\n",
       "    .dataframe thead th {\n",
       "        text-align: right;\n",
       "    }\n",
       "</style>\n",
       "<table border=\"1\" class=\"dataframe\">\n",
       "  <thead>\n",
       "    <tr style=\"text-align: right;\">\n",
       "      <th></th>\n",
       "      <th>Open</th>\n",
       "      <th>High</th>\n",
       "      <th>Low</th>\n",
       "      <th>Close</th>\n",
       "      <th>Volume</th>\n",
       "    </tr>\n",
       "    <tr>\n",
       "      <th>Time</th>\n",
       "      <th></th>\n",
       "      <th></th>\n",
       "      <th></th>\n",
       "      <th></th>\n",
       "      <th></th>\n",
       "    </tr>\n",
       "  </thead>\n",
       "  <tbody>\n",
       "    <tr>\n",
       "      <td>2010-01-01 00:00:00</td>\n",
       "      <td>1.43283</td>\n",
       "      <td>1.43293</td>\n",
       "      <td>1.43224</td>\n",
       "      <td>1.43293</td>\n",
       "      <td>608600007.1</td>\n",
       "    </tr>\n",
       "    <tr>\n",
       "      <td>2010-01-01 00:15:00</td>\n",
       "      <td>1.43285</td>\n",
       "      <td>1.43295</td>\n",
       "      <td>1.43229</td>\n",
       "      <td>1.43275</td>\n",
       "      <td>535600003.2</td>\n",
       "    </tr>\n",
       "    <tr>\n",
       "      <td>2010-01-01 00:30:00</td>\n",
       "      <td>1.43280</td>\n",
       "      <td>1.43303</td>\n",
       "      <td>1.43239</td>\n",
       "      <td>1.43281</td>\n",
       "      <td>436299999.2</td>\n",
       "    </tr>\n",
       "    <tr>\n",
       "      <td>2010-01-01 00:45:00</td>\n",
       "      <td>1.43285</td>\n",
       "      <td>1.43294</td>\n",
       "      <td>1.43229</td>\n",
       "      <td>1.43276</td>\n",
       "      <td>614299997.3</td>\n",
       "    </tr>\n",
       "    <tr>\n",
       "      <td>2010-01-01 01:00:00</td>\n",
       "      <td>1.43287</td>\n",
       "      <td>1.43292</td>\n",
       "      <td>1.43206</td>\n",
       "      <td>1.43282</td>\n",
       "      <td>705300008.8</td>\n",
       "    </tr>\n",
       "  </tbody>\n",
       "</table>\n",
       "</div>"
      ],
      "text/plain": [
       "                        Open     High      Low    Close       Volume\n",
       "Time                                                                \n",
       "2010-01-01 00:00:00  1.43283  1.43293  1.43224  1.43293  608600007.1\n",
       "2010-01-01 00:15:00  1.43285  1.43295  1.43229  1.43275  535600003.2\n",
       "2010-01-01 00:30:00  1.43280  1.43303  1.43239  1.43281  436299999.2\n",
       "2010-01-01 00:45:00  1.43285  1.43294  1.43229  1.43276  614299997.3\n",
       "2010-01-01 01:00:00  1.43287  1.43292  1.43206  1.43282  705300008.8"
      ]
     },
     "execution_count": 66,
     "metadata": {},
     "output_type": "execute_result"
    }
   ],
   "source": [
    "df['Time'] = pd.to_datetime(df['Time'])\n",
    "df.set_index('Time', inplace=True)\n",
    "df.head()"
   ]
  },
  {
   "cell_type": "code",
   "execution_count": 67,
   "metadata": {
    "ExecuteTime": {
     "end_time": "2020-02-21T11:50:55.167159Z",
     "start_time": "2020-02-21T11:50:55.150442Z"
    }
   },
   "outputs": [
    {
     "data": {
      "text/html": [
       "<div>\n",
       "<style scoped>\n",
       "    .dataframe tbody tr th:only-of-type {\n",
       "        vertical-align: middle;\n",
       "    }\n",
       "\n",
       "    .dataframe tbody tr th {\n",
       "        vertical-align: top;\n",
       "    }\n",
       "\n",
       "    .dataframe thead th {\n",
       "        text-align: right;\n",
       "    }\n",
       "</style>\n",
       "<table border=\"1\" class=\"dataframe\">\n",
       "  <thead>\n",
       "    <tr style=\"text-align: right;\">\n",
       "      <th></th>\n",
       "      <th>Open</th>\n",
       "      <th>High</th>\n",
       "      <th>Low</th>\n",
       "      <th>Close</th>\n",
       "      <th>Volume</th>\n",
       "      <th>time_values</th>\n",
       "    </tr>\n",
       "    <tr>\n",
       "      <th>Time</th>\n",
       "      <th></th>\n",
       "      <th></th>\n",
       "      <th></th>\n",
       "      <th></th>\n",
       "      <th></th>\n",
       "      <th></th>\n",
       "    </tr>\n",
       "  </thead>\n",
       "  <tbody>\n",
       "    <tr>\n",
       "      <td>2010-01-01 00:00:00</td>\n",
       "      <td>1.43283</td>\n",
       "      <td>1.43293</td>\n",
       "      <td>1.43224</td>\n",
       "      <td>1.43293</td>\n",
       "      <td>608600007.1</td>\n",
       "      <td>2010-01-01 00:00:00</td>\n",
       "    </tr>\n",
       "    <tr>\n",
       "      <td>2010-01-01 00:15:00</td>\n",
       "      <td>1.43285</td>\n",
       "      <td>1.43295</td>\n",
       "      <td>1.43229</td>\n",
       "      <td>1.43275</td>\n",
       "      <td>535600003.2</td>\n",
       "      <td>2010-01-01 00:15:00</td>\n",
       "    </tr>\n",
       "    <tr>\n",
       "      <td>2010-01-01 00:30:00</td>\n",
       "      <td>1.43280</td>\n",
       "      <td>1.43303</td>\n",
       "      <td>1.43239</td>\n",
       "      <td>1.43281</td>\n",
       "      <td>436299999.2</td>\n",
       "      <td>2010-01-01 00:30:00</td>\n",
       "    </tr>\n",
       "    <tr>\n",
       "      <td>2010-01-01 00:45:00</td>\n",
       "      <td>1.43285</td>\n",
       "      <td>1.43294</td>\n",
       "      <td>1.43229</td>\n",
       "      <td>1.43276</td>\n",
       "      <td>614299997.3</td>\n",
       "      <td>2010-01-01 00:45:00</td>\n",
       "    </tr>\n",
       "    <tr>\n",
       "      <td>2010-01-01 01:00:00</td>\n",
       "      <td>1.43287</td>\n",
       "      <td>1.43292</td>\n",
       "      <td>1.43206</td>\n",
       "      <td>1.43282</td>\n",
       "      <td>705300008.8</td>\n",
       "      <td>2010-01-01 01:00:00</td>\n",
       "    </tr>\n",
       "  </tbody>\n",
       "</table>\n",
       "</div>"
      ],
      "text/plain": [
       "                        Open     High      Low    Close       Volume  \\\n",
       "Time                                                                   \n",
       "2010-01-01 00:00:00  1.43283  1.43293  1.43224  1.43293  608600007.1   \n",
       "2010-01-01 00:15:00  1.43285  1.43295  1.43229  1.43275  535600003.2   \n",
       "2010-01-01 00:30:00  1.43280  1.43303  1.43239  1.43281  436299999.2   \n",
       "2010-01-01 00:45:00  1.43285  1.43294  1.43229  1.43276  614299997.3   \n",
       "2010-01-01 01:00:00  1.43287  1.43292  1.43206  1.43282  705300008.8   \n",
       "\n",
       "                            time_values  \n",
       "Time                                     \n",
       "2010-01-01 00:00:00 2010-01-01 00:00:00  \n",
       "2010-01-01 00:15:00 2010-01-01 00:15:00  \n",
       "2010-01-01 00:30:00 2010-01-01 00:30:00  \n",
       "2010-01-01 00:45:00 2010-01-01 00:45:00  \n",
       "2010-01-01 01:00:00 2010-01-01 01:00:00  "
      ]
     },
     "execution_count": 67,
     "metadata": {},
     "output_type": "execute_result"
    }
   ],
   "source": [
    "df['time_values'] = df.index.values\n",
    "df.head()"
   ]
  },
  {
   "cell_type": "code",
   "execution_count": 68,
   "metadata": {
    "ExecuteTime": {
     "end_time": "2020-02-21T11:50:56.386051Z",
     "start_time": "2020-02-21T11:50:55.168823Z"
    }
   },
   "outputs": [
    {
     "data": {
      "text/html": [
       "<div>\n",
       "<style scoped>\n",
       "    .dataframe tbody tr th:only-of-type {\n",
       "        vertical-align: middle;\n",
       "    }\n",
       "\n",
       "    .dataframe tbody tr th {\n",
       "        vertical-align: top;\n",
       "    }\n",
       "\n",
       "    .dataframe thead th {\n",
       "        text-align: right;\n",
       "    }\n",
       "</style>\n",
       "<table border=\"1\" class=\"dataframe\">\n",
       "  <thead>\n",
       "    <tr style=\"text-align: right;\">\n",
       "      <th></th>\n",
       "      <th>Open</th>\n",
       "      <th>High</th>\n",
       "      <th>Low</th>\n",
       "      <th>Close</th>\n",
       "      <th>Volume</th>\n",
       "      <th>time_values</th>\n",
       "      <th>days</th>\n",
       "    </tr>\n",
       "    <tr>\n",
       "      <th>Time</th>\n",
       "      <th></th>\n",
       "      <th></th>\n",
       "      <th></th>\n",
       "      <th></th>\n",
       "      <th></th>\n",
       "      <th></th>\n",
       "      <th></th>\n",
       "    </tr>\n",
       "  </thead>\n",
       "  <tbody>\n",
       "    <tr>\n",
       "      <td>2010-01-01 00:00:00</td>\n",
       "      <td>1.43283</td>\n",
       "      <td>1.43293</td>\n",
       "      <td>1.43224</td>\n",
       "      <td>1.43293</td>\n",
       "      <td>608600007.1</td>\n",
       "      <td>2010-01-01 00:00:00</td>\n",
       "      <td>1</td>\n",
       "    </tr>\n",
       "    <tr>\n",
       "      <td>2010-01-01 00:15:00</td>\n",
       "      <td>1.43285</td>\n",
       "      <td>1.43295</td>\n",
       "      <td>1.43229</td>\n",
       "      <td>1.43275</td>\n",
       "      <td>535600003.2</td>\n",
       "      <td>2010-01-01 00:15:00</td>\n",
       "      <td>1</td>\n",
       "    </tr>\n",
       "    <tr>\n",
       "      <td>2010-01-01 00:30:00</td>\n",
       "      <td>1.43280</td>\n",
       "      <td>1.43303</td>\n",
       "      <td>1.43239</td>\n",
       "      <td>1.43281</td>\n",
       "      <td>436299999.2</td>\n",
       "      <td>2010-01-01 00:30:00</td>\n",
       "      <td>1</td>\n",
       "    </tr>\n",
       "    <tr>\n",
       "      <td>2010-01-01 00:45:00</td>\n",
       "      <td>1.43285</td>\n",
       "      <td>1.43294</td>\n",
       "      <td>1.43229</td>\n",
       "      <td>1.43276</td>\n",
       "      <td>614299997.3</td>\n",
       "      <td>2010-01-01 00:45:00</td>\n",
       "      <td>1</td>\n",
       "    </tr>\n",
       "    <tr>\n",
       "      <td>2010-01-01 01:00:00</td>\n",
       "      <td>1.43287</td>\n",
       "      <td>1.43292</td>\n",
       "      <td>1.43206</td>\n",
       "      <td>1.43282</td>\n",
       "      <td>705300008.8</td>\n",
       "      <td>2010-01-01 01:00:00</td>\n",
       "      <td>1</td>\n",
       "    </tr>\n",
       "  </tbody>\n",
       "</table>\n",
       "</div>"
      ],
      "text/plain": [
       "                        Open     High      Low    Close       Volume  \\\n",
       "Time                                                                   \n",
       "2010-01-01 00:00:00  1.43283  1.43293  1.43224  1.43293  608600007.1   \n",
       "2010-01-01 00:15:00  1.43285  1.43295  1.43229  1.43275  535600003.2   \n",
       "2010-01-01 00:30:00  1.43280  1.43303  1.43239  1.43281  436299999.2   \n",
       "2010-01-01 00:45:00  1.43285  1.43294  1.43229  1.43276  614299997.3   \n",
       "2010-01-01 01:00:00  1.43287  1.43292  1.43206  1.43282  705300008.8   \n",
       "\n",
       "                            time_values  days  \n",
       "Time                                           \n",
       "2010-01-01 00:00:00 2010-01-01 00:00:00     1  \n",
       "2010-01-01 00:15:00 2010-01-01 00:15:00     1  \n",
       "2010-01-01 00:30:00 2010-01-01 00:30:00     1  \n",
       "2010-01-01 00:45:00 2010-01-01 00:45:00     1  \n",
       "2010-01-01 01:00:00 2010-01-01 01:00:00     1  "
      ]
     },
     "execution_count": 68,
     "metadata": {},
     "output_type": "execute_result"
    }
   ],
   "source": [
    "df['days'] = df.time_values.apply(lambda x: x.day)\n",
    "df.head()"
   ]
  },
  {
   "cell_type": "code",
   "execution_count": 73,
   "metadata": {
    "ExecuteTime": {
     "end_time": "2020-02-21T11:52:38.808033Z",
     "start_time": "2020-02-21T11:52:38.738215Z"
    }
   },
   "outputs": [
    {
     "data": {
      "text/html": [
       "<div>\n",
       "<style scoped>\n",
       "    .dataframe tbody tr th:only-of-type {\n",
       "        vertical-align: middle;\n",
       "    }\n",
       "\n",
       "    .dataframe tbody tr th {\n",
       "        vertical-align: top;\n",
       "    }\n",
       "\n",
       "    .dataframe thead th {\n",
       "        text-align: right;\n",
       "    }\n",
       "</style>\n",
       "<table border=\"1\" class=\"dataframe\">\n",
       "  <thead>\n",
       "    <tr style=\"text-align: right;\">\n",
       "      <th></th>\n",
       "      <th>Open</th>\n",
       "      <th>High</th>\n",
       "      <th>Low</th>\n",
       "      <th>Close</th>\n",
       "      <th>Volume</th>\n",
       "      <th>time_values</th>\n",
       "      <th>days</th>\n",
       "      <th>avg</th>\n",
       "      <th>mov</th>\n",
       "    </tr>\n",
       "    <tr>\n",
       "      <th>Time</th>\n",
       "      <th></th>\n",
       "      <th></th>\n",
       "      <th></th>\n",
       "      <th></th>\n",
       "      <th></th>\n",
       "      <th></th>\n",
       "      <th></th>\n",
       "      <th></th>\n",
       "      <th></th>\n",
       "    </tr>\n",
       "  </thead>\n",
       "  <tbody>\n",
       "    <tr>\n",
       "      <td>2010-01-01 00:00:00</td>\n",
       "      <td>1.43283</td>\n",
       "      <td>1.43293</td>\n",
       "      <td>1.43224</td>\n",
       "      <td>1.43293</td>\n",
       "      <td>608600007.1</td>\n",
       "      <td>2010-01-01 00:00:00</td>\n",
       "      <td>1</td>\n",
       "      <td>1.432585</td>\n",
       "      <td>True</td>\n",
       "    </tr>\n",
       "    <tr>\n",
       "      <td>2010-01-01 00:15:00</td>\n",
       "      <td>1.43285</td>\n",
       "      <td>1.43295</td>\n",
       "      <td>1.43229</td>\n",
       "      <td>1.43275</td>\n",
       "      <td>535600003.2</td>\n",
       "      <td>2010-01-01 00:15:00</td>\n",
       "      <td>1</td>\n",
       "      <td>1.432620</td>\n",
       "      <td>False</td>\n",
       "    </tr>\n",
       "    <tr>\n",
       "      <td>2010-01-01 00:30:00</td>\n",
       "      <td>1.43280</td>\n",
       "      <td>1.43303</td>\n",
       "      <td>1.43239</td>\n",
       "      <td>1.43281</td>\n",
       "      <td>436299999.2</td>\n",
       "      <td>2010-01-01 00:30:00</td>\n",
       "      <td>1</td>\n",
       "      <td>1.432710</td>\n",
       "      <td>True</td>\n",
       "    </tr>\n",
       "    <tr>\n",
       "      <td>2010-01-01 00:45:00</td>\n",
       "      <td>1.43285</td>\n",
       "      <td>1.43294</td>\n",
       "      <td>1.43229</td>\n",
       "      <td>1.43276</td>\n",
       "      <td>614299997.3</td>\n",
       "      <td>2010-01-01 00:45:00</td>\n",
       "      <td>1</td>\n",
       "      <td>1.432615</td>\n",
       "      <td>False</td>\n",
       "    </tr>\n",
       "    <tr>\n",
       "      <td>2010-01-01 01:00:00</td>\n",
       "      <td>1.43287</td>\n",
       "      <td>1.43292</td>\n",
       "      <td>1.43206</td>\n",
       "      <td>1.43282</td>\n",
       "      <td>705300008.8</td>\n",
       "      <td>2010-01-01 01:00:00</td>\n",
       "      <td>1</td>\n",
       "      <td>1.432490</td>\n",
       "      <td>False</td>\n",
       "    </tr>\n",
       "  </tbody>\n",
       "</table>\n",
       "</div>"
      ],
      "text/plain": [
       "                        Open     High      Low    Close       Volume  \\\n",
       "Time                                                                   \n",
       "2010-01-01 00:00:00  1.43283  1.43293  1.43224  1.43293  608600007.1   \n",
       "2010-01-01 00:15:00  1.43285  1.43295  1.43229  1.43275  535600003.2   \n",
       "2010-01-01 00:30:00  1.43280  1.43303  1.43239  1.43281  436299999.2   \n",
       "2010-01-01 00:45:00  1.43285  1.43294  1.43229  1.43276  614299997.3   \n",
       "2010-01-01 01:00:00  1.43287  1.43292  1.43206  1.43282  705300008.8   \n",
       "\n",
       "                            time_values  days       avg    mov  \n",
       "Time                                                            \n",
       "2010-01-01 00:00:00 2010-01-01 00:00:00     1  1.432585   True  \n",
       "2010-01-01 00:15:00 2010-01-01 00:15:00     1  1.432620  False  \n",
       "2010-01-01 00:30:00 2010-01-01 00:30:00     1  1.432710   True  \n",
       "2010-01-01 00:45:00 2010-01-01 00:45:00     1  1.432615  False  \n",
       "2010-01-01 01:00:00 2010-01-01 01:00:00     1  1.432490  False  "
      ]
     },
     "execution_count": 73,
     "metadata": {},
     "output_type": "execute_result"
    }
   ],
   "source": [
    "# test average prediction\n",
    "df['avg'] = (df['High'] + df['Low'])/2\n",
    "df['mov'] = df['Close'] - df['Open']\n",
    "\n",
    "def trans(x):\n",
    "    if x >=0 :\n",
    "        return True\n",
    "    else:\n",
    "        return False\n",
    "df['mov'] = df['mov'].apply(trans)\n",
    "\n",
    "pred_col = 'avg'\n",
    "df = df[[pred_col]]\n",
    "\n",
    "df.head()"
   ]
  },
  {
   "cell_type": "code",
   "execution_count": 35,
   "metadata": {
    "ExecuteTime": {
     "end_time": "2020-02-21T11:44:48.787082Z",
     "start_time": "2020-02-21T11:44:48.781316Z"
    }
   },
   "outputs": [
    {
     "data": {
      "text/html": [
       "<div>\n",
       "<style scoped>\n",
       "    .dataframe tbody tr th:only-of-type {\n",
       "        vertical-align: middle;\n",
       "    }\n",
       "\n",
       "    .dataframe tbody tr th {\n",
       "        vertical-align: top;\n",
       "    }\n",
       "\n",
       "    .dataframe thead th {\n",
       "        text-align: right;\n",
       "    }\n",
       "</style>\n",
       "<table border=\"1\" class=\"dataframe\">\n",
       "  <thead>\n",
       "    <tr style=\"text-align: right;\">\n",
       "      <th></th>\n",
       "      <th>avg</th>\n",
       "    </tr>\n",
       "    <tr>\n",
       "      <th>Time</th>\n",
       "      <th></th>\n",
       "    </tr>\n",
       "  </thead>\n",
       "  <tbody>\n",
       "    <tr>\n",
       "      <td>2010-01-01 00:00:00</td>\n",
       "      <td>1.432585</td>\n",
       "    </tr>\n",
       "    <tr>\n",
       "      <td>2010-01-01 00:15:00</td>\n",
       "      <td>1.432620</td>\n",
       "    </tr>\n",
       "    <tr>\n",
       "      <td>2010-01-01 00:30:00</td>\n",
       "      <td>1.432710</td>\n",
       "    </tr>\n",
       "    <tr>\n",
       "      <td>2010-01-01 00:45:00</td>\n",
       "      <td>1.432615</td>\n",
       "    </tr>\n",
       "    <tr>\n",
       "      <td>2010-01-01 01:00:00</td>\n",
       "      <td>1.432490</td>\n",
       "    </tr>\n",
       "  </tbody>\n",
       "</table>\n",
       "</div>"
      ],
      "text/plain": [
       "                          avg\n",
       "Time                         \n",
       "2010-01-01 00:00:00  1.432585\n",
       "2010-01-01 00:15:00  1.432620\n",
       "2010-01-01 00:30:00  1.432710\n",
       "2010-01-01 00:45:00  1.432615\n",
       "2010-01-01 01:00:00  1.432490"
      ]
     },
     "execution_count": 35,
     "metadata": {},
     "output_type": "execute_result"
    }
   ],
   "source": [
    "df.head()"
   ]
  },
  {
   "cell_type": "markdown",
   "metadata": {},
   "source": [
    "# How many reads we have per day ?"
   ]
  },
  {
   "cell_type": "code",
   "execution_count": 36,
   "metadata": {
    "ExecuteTime": {
     "end_time": "2020-02-21T11:44:48.795465Z",
     "start_time": "2020-02-21T11:44:48.789897Z"
    }
   },
   "outputs": [
    {
     "data": {
      "text/plain": [
       "96"
      ]
     },
     "execution_count": 36,
     "metadata": {},
     "output_type": "execute_result"
    }
   ],
   "source": [
    "day_reads = len(df['2011-1-1'])\n",
    "day_reads"
   ]
  },
  {
   "cell_type": "markdown",
   "metadata": {},
   "source": [
    "# that's what we aiming for"
   ]
  },
  {
   "cell_type": "code",
   "execution_count": 37,
   "metadata": {
    "ExecuteTime": {
     "end_time": "2020-02-21T11:44:48.802658Z",
     "start_time": "2020-02-21T11:44:48.796893Z"
    }
   },
   "outputs": [],
   "source": [
    "forecast_out = day_reads*7 # predicting 1 week into future\n",
    "df['Prediction'] = df[[pred_col]].shift(-forecast_out)"
   ]
  },
  {
   "cell_type": "code",
   "execution_count": 38,
   "metadata": {
    "ExecuteTime": {
     "end_time": "2020-02-21T11:44:48.817001Z",
     "start_time": "2020-02-21T11:44:48.803953Z"
    }
   },
   "outputs": [
    {
     "data": {
      "text/html": [
       "<div>\n",
       "<style scoped>\n",
       "    .dataframe tbody tr th:only-of-type {\n",
       "        vertical-align: middle;\n",
       "    }\n",
       "\n",
       "    .dataframe tbody tr th {\n",
       "        vertical-align: top;\n",
       "    }\n",
       "\n",
       "    .dataframe thead th {\n",
       "        text-align: right;\n",
       "    }\n",
       "</style>\n",
       "<table border=\"1\" class=\"dataframe\">\n",
       "  <thead>\n",
       "    <tr style=\"text-align: right;\">\n",
       "      <th></th>\n",
       "      <th>avg</th>\n",
       "      <th>Prediction</th>\n",
       "    </tr>\n",
       "    <tr>\n",
       "      <th>Time</th>\n",
       "      <th></th>\n",
       "      <th></th>\n",
       "    </tr>\n",
       "  </thead>\n",
       "  <tbody>\n",
       "    <tr>\n",
       "      <td>2016-12-31 22:45:00</td>\n",
       "      <td>1.0515</td>\n",
       "      <td>NaN</td>\n",
       "    </tr>\n",
       "    <tr>\n",
       "      <td>2016-12-31 23:00:00</td>\n",
       "      <td>1.0515</td>\n",
       "      <td>NaN</td>\n",
       "    </tr>\n",
       "    <tr>\n",
       "      <td>2016-12-31 23:15:00</td>\n",
       "      <td>1.0515</td>\n",
       "      <td>NaN</td>\n",
       "    </tr>\n",
       "    <tr>\n",
       "      <td>2016-12-31 23:30:00</td>\n",
       "      <td>1.0515</td>\n",
       "      <td>NaN</td>\n",
       "    </tr>\n",
       "    <tr>\n",
       "      <td>2016-12-31 23:45:00</td>\n",
       "      <td>1.0515</td>\n",
       "      <td>NaN</td>\n",
       "    </tr>\n",
       "  </tbody>\n",
       "</table>\n",
       "</div>"
      ],
      "text/plain": [
       "                        avg  Prediction\n",
       "Time                                   \n",
       "2016-12-31 22:45:00  1.0515         NaN\n",
       "2016-12-31 23:00:00  1.0515         NaN\n",
       "2016-12-31 23:15:00  1.0515         NaN\n",
       "2016-12-31 23:30:00  1.0515         NaN\n",
       "2016-12-31 23:45:00  1.0515         NaN"
      ]
     },
     "execution_count": 38,
     "metadata": {},
     "output_type": "execute_result"
    }
   ],
   "source": [
    "df.tail()"
   ]
  },
  {
   "cell_type": "code",
   "execution_count": 39,
   "metadata": {
    "ExecuteTime": {
     "end_time": "2020-02-21T11:44:48.832668Z",
     "start_time": "2020-02-21T11:44:48.818962Z"
    }
   },
   "outputs": [],
   "source": [
    "X = np.array(df.drop('Prediction', 1))"
   ]
  },
  {
   "cell_type": "code",
   "execution_count": 40,
   "metadata": {
    "ExecuteTime": {
     "end_time": "2020-02-21T11:44:48.839154Z",
     "start_time": "2020-02-21T11:44:48.834861Z"
    }
   },
   "outputs": [],
   "source": [
    "X_forecast = X[-forecast_out:] # set X_forecast equal to last forecast values\n",
    "y_forecast = np.array(df[pred_col])[-forecast_out:]\n",
    "X = X[:-forecast_out] # remove last forecast values from X"
   ]
  },
  {
   "cell_type": "code",
   "execution_count": 41,
   "metadata": {
    "ExecuteTime": {
     "end_time": "2020-02-21T11:44:48.845666Z",
     "start_time": "2020-02-21T11:44:48.840927Z"
    }
   },
   "outputs": [],
   "source": [
    "y = np.array(df['Prediction'])\n",
    "y = y[:-forecast_out]"
   ]
  },
  {
   "cell_type": "code",
   "execution_count": 42,
   "metadata": {
    "ExecuteTime": {
     "end_time": "2020-02-21T11:44:48.867157Z",
     "start_time": "2020-02-21T11:44:48.847468Z"
    }
   },
   "outputs": [],
   "source": [
    "from sklearn.model_selection import train_test_split\n",
    "X_train, X_test, y_train, y_test = train_test_split(X, y, test_size = 0.2)"
   ]
  },
  {
   "cell_type": "code",
   "execution_count": 43,
   "metadata": {
    "ExecuteTime": {
     "end_time": "2020-02-21T11:44:48.888196Z",
     "start_time": "2020-02-21T11:44:48.869136Z"
    }
   },
   "outputs": [
    {
     "name": "stdout",
     "output_type": "stream",
     "text": [
      "confidence:  0.9776081298456064\n"
     ]
    }
   ],
   "source": [
    "# Training\n",
    "clf = LinearRegression()\n",
    "clf.fit(X_train,y_train)\n",
    "# Testing\n",
    "confidence = clf.score(X_test, y_test)\n",
    "print(\"confidence: \", confidence)"
   ]
  },
  {
   "cell_type": "code",
   "execution_count": 54,
   "metadata": {
    "ExecuteTime": {
     "end_time": "2020-02-21T11:45:58.072823Z",
     "start_time": "2020-02-21T11:45:58.064192Z"
    },
    "scrolled": true
   },
   "outputs": [],
   "source": [
    "forecast_prediction = clf.predict(X_test)\n"
   ]
  },
  {
   "cell_type": "code",
   "execution_count": 56,
   "metadata": {
    "ExecuteTime": {
     "end_time": "2020-02-21T11:46:25.849781Z",
     "start_time": "2020-02-21T11:46:25.676647Z"
    },
    "scrolled": true
   },
   "outputs": [
    {
     "data": {
      "image/png": "[encoded data removed]",
      "text/plain": [
       "<Figure size 432x288 with 1 Axes>"
      ]
     },
     "metadata": {
      "needs_background": "light"
     },
     "output_type": "display_data"
    }
   ],
   "source": [
    "import matplotlib.pyplot as plt\n",
    "%matplotlib inline\n",
    "size = 250\n",
    "plt.plot(forecast_prediction[:size], label='predictions');\n",
    "plt.plot(y_test[:size], label='true');\n",
    "plt.legend()\n",
    "plt.show();"
   ]
  },
  {
   "cell_type": "markdown",
   "metadata": {},
   "source": [
    "## Make it in one function   "
   ]
  },
  {
   "cell_type": "code",
   "execution_count": 59,
   "metadata": {
    "ExecuteTime": {
     "end_time": "2020-02-21T11:47:46.978609Z",
     "start_time": "2020-02-21T11:47:46.965153Z"
    }
   },
   "outputs": [],
   "source": [
    "def predict_ts(forecast_value):\n",
    "    df['Prediction'] = df[[pred_col]].shift(-forecast_value)\n",
    "    X = np.array(df.drop('Prediction', 1))\n",
    "    X_forecast = X[-forecast_value:] # set X_forecast equal to last forecast values\n",
    "    y_forecast = np.array(df[pred_col])[-forecast_value:]\n",
    "    X = X[:-forecast_value] # remove last forecast values from X\n",
    "    y = np.array(df['Prediction'])\n",
    "    y = y[:-forecast_value]\n",
    "    X_train, X_test, y_train, y_test = train_test_split(X, y, test_size = 0.2)\n",
    "    # Training\n",
    "    clf = LinearRegression()\n",
    "    clf.fit(X_train,y_train)\n",
    "    # Testing\n",
    "    confidence = clf.score(X_test, y_test)\n",
    "    print(\"confidence: \", confidence)\n",
    "    forecast_prediction = clf.predict(X_test)\n",
    "    plt.plot(forecast_prediction[:100], label='predictions');\n",
    "    plt.plot(y_test[:100], label='true');\n",
    "    plt.legend()\n",
    "    plt.show();"
   ]
  },
  {
   "cell_type": "code",
   "execution_count": 60,
   "metadata": {
    "ExecuteTime": {
     "end_time": "2020-02-21T11:47:47.491162Z",
     "start_time": "2020-02-21T11:47:47.279961Z"
    }
   },
   "outputs": [
    {
     "name": "stdout",
     "output_type": "stream",
     "text": [
      "confidence:  0.9967095188920893\n"
     ]
    },
    {
     "data": {
      "image/png": "[encoded data removed]",
      "text/plain": [
       "<Figure size 432x288 with 1 Axes>"
      ]
     },
     "metadata": {
      "needs_background": "light"
     },
     "output_type": "display_data"
    }
   ],
   "source": [
    "predict_ts(day_reads)"
   ]
  },
  {
   "cell_type": "code",
   "execution_count": 61,
   "metadata": {
    "ExecuteTime": {
     "end_time": "2020-02-21T11:47:52.180475Z",
     "start_time": "2020-02-21T11:47:52.003681Z"
    }
   },
   "outputs": [
    {
     "name": "stdout",
     "output_type": "stream",
     "text": [
      "confidence:  0.17234930135233162\n"
     ]
    },
    {
     "data": {
      "image/png": "[encoded data removed]",
      "text/plain": [
       "<Figure size 432x288 with 1 Axes>"
      ]
     },
     "metadata": {
      "needs_background": "light"
     },
     "output_type": "display_data"
    }
   ],
   "source": [
    "predict_ts(day_reads*365)"
   ]
  }
 ],
 "metadata": {
  "kernelspec": {
   "display_name": "Python 3",
   "language": "python",
   "name": "python3"
  },
  "language_info": {
   "codemirror_mode": {
    "name": "ipython",
    "version": 3
   },
   "file_extension": ".py",
   "mimetype": "text/x-python",
   "name": "python",
   "nbconvert_exporter": "python",
   "pygments_lexer": "ipython3",
   "version": "3.7.4"
  }
 },
 "nbformat": 4,
 "nbformat_minor": 2
}
